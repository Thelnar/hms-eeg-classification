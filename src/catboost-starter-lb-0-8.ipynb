{
 "cells": [
  {
   "cell_type": "markdown",
   "metadata": {},
   "source": [
    "## From https://www.kaggle.com/competitions/hms-harmful-brain-activity-classification/discussion/467576"
   ]
  },
  {
   "cell_type": "markdown",
   "metadata": {},
   "source": [
    "# CatBoost Starter for Brain Comp\n",
    "This is a CatBoost starter notebook for Kaggle's brain comp. We use only spectrogram features. (The model does not use eeg features yet). We can improve the CV and LB score by engineering more (spectrogram and/or eeg) features and we can tune the CatBoost model (and/or use other ML DL models). Discussion about this starter is [here][2].\n",
    "\n",
    "In this notebook, we also compare four CV scores. Kaggle's sample submission uses equal predictions of 1/6 for all targets and achieves CV 1.46, LB 1.09. The best public notebook (on Jan 12th) [here][1] uses train means and achieves CV 1.26 LB 0.97. Our CatBoost model version 1 achieves CV 1.01 LB 0.81. Our CatBoost model version 2 achieves CV 0.82. Let's submit version 2 and see what the LB score is!\n",
    "\n",
    "### Version Notes\n",
    "* Version 1 - Uses spectrogram features from 10 minute window `means`. Achieves CV 1.01, LB 0.81\n",
    "* Version 2 - Uses spectrogram features from 10 minute and 20 second `means` and `mins`. Achieves CV 0.82, LB to be determined...\n",
    "\n",
    "[1]: https://www.kaggle.com/code/seshurajup/eda-train-csv\n",
    "[2]: https://www.kaggle.com/competitions/hms-harmful-brain-activity-classification/discussion/467576\n"
   ]
  },
  {
   "cell_type": "markdown",
   "metadata": {},
   "source": [
    "# Load Libraries"
   ]
  },
  {
   "cell_type": "code",
   "execution_count": 3,
   "metadata": {},
   "outputs": [],
   "source": [
    "import os\n",
    "# os.environ[\"CUDA_VISIBLE_DEVICES\"]=\"0 , 1\"\n",
    "import pandas as pd\n",
    "import numpy as np\n",
    "import matplotlib.pyplot as plt\n",
    "from sklearn.model_selection import GroupKFold, KFold\n",
    "import warnings\n",
    "import catboost as cat\n",
    "import gc\n",
    "from catboost import CatBoostClassifier, Pool\n",
    "import sys\n",
    "from kaggle_kl_div import score\n",
    "\n",
    "VER = 2"
   ]
  },
  {
   "cell_type": "markdown",
   "metadata": {},
   "source": [
    "# Load Train Data"
   ]
  },
  {
   "cell_type": "code",
   "execution_count": 28,
   "metadata": {
    "_cell_guid": "b1076dfc-b9ad-4769-8c92-a6c4dae69d19",
    "_uuid": "8f2839f25d086af736a60e9eeb907d3b93b6e0e5"
   },
   "outputs": [
    {
     "name": "stdout",
     "output_type": "stream",
     "text": [
      "Train shape:  (106800, 15)\n",
      "Targets ['seizure_vote', 'lpd_vote', 'gpd_vote', 'lrda_vote', 'grda_vote', 'other_vote']\n"
     ]
    },
    {
     "data": {
      "text/html": [
       "<div>\n",
       "<style scoped>\n",
       "    .dataframe tbody tr th:only-of-type {\n",
       "        vertical-align: middle;\n",
       "    }\n",
       "\n",
       "    .dataframe tbody tr th {\n",
       "        vertical-align: top;\n",
       "    }\n",
       "\n",
       "    .dataframe thead th {\n",
       "        text-align: right;\n",
       "    }\n",
       "</style>\n",
       "<table border=\"1\" class=\"dataframe\">\n",
       "  <thead>\n",
       "    <tr style=\"text-align: right;\">\n",
       "      <th></th>\n",
       "      <th>eeg_id</th>\n",
       "      <th>eeg_sub_id</th>\n",
       "      <th>eeg_label_offset_seconds</th>\n",
       "      <th>spectrogram_id</th>\n",
       "      <th>spectrogram_sub_id</th>\n",
       "      <th>spectrogram_label_offset_seconds</th>\n",
       "      <th>label_id</th>\n",
       "      <th>patient_id</th>\n",
       "      <th>expert_consensus</th>\n",
       "      <th>seizure_vote</th>\n",
       "      <th>lpd_vote</th>\n",
       "      <th>gpd_vote</th>\n",
       "      <th>lrda_vote</th>\n",
       "      <th>grda_vote</th>\n",
       "      <th>other_vote</th>\n",
       "    </tr>\n",
       "  </thead>\n",
       "  <tbody>\n",
       "    <tr>\n",
       "      <th>0</th>\n",
       "      <td>1628180742</td>\n",
       "      <td>0</td>\n",
       "      <td>0.0</td>\n",
       "      <td>353733</td>\n",
       "      <td>0</td>\n",
       "      <td>0.0</td>\n",
       "      <td>127492639</td>\n",
       "      <td>42516</td>\n",
       "      <td>Seizure</td>\n",
       "      <td>3</td>\n",
       "      <td>0</td>\n",
       "      <td>0</td>\n",
       "      <td>0</td>\n",
       "      <td>0</td>\n",
       "      <td>0</td>\n",
       "    </tr>\n",
       "    <tr>\n",
       "      <th>1</th>\n",
       "      <td>1628180742</td>\n",
       "      <td>1</td>\n",
       "      <td>6.0</td>\n",
       "      <td>353733</td>\n",
       "      <td>1</td>\n",
       "      <td>6.0</td>\n",
       "      <td>3887563113</td>\n",
       "      <td>42516</td>\n",
       "      <td>Seizure</td>\n",
       "      <td>3</td>\n",
       "      <td>0</td>\n",
       "      <td>0</td>\n",
       "      <td>0</td>\n",
       "      <td>0</td>\n",
       "      <td>0</td>\n",
       "    </tr>\n",
       "    <tr>\n",
       "      <th>2</th>\n",
       "      <td>1628180742</td>\n",
       "      <td>2</td>\n",
       "      <td>8.0</td>\n",
       "      <td>353733</td>\n",
       "      <td>2</td>\n",
       "      <td>8.0</td>\n",
       "      <td>1142670488</td>\n",
       "      <td>42516</td>\n",
       "      <td>Seizure</td>\n",
       "      <td>3</td>\n",
       "      <td>0</td>\n",
       "      <td>0</td>\n",
       "      <td>0</td>\n",
       "      <td>0</td>\n",
       "      <td>0</td>\n",
       "    </tr>\n",
       "    <tr>\n",
       "      <th>3</th>\n",
       "      <td>1628180742</td>\n",
       "      <td>3</td>\n",
       "      <td>18.0</td>\n",
       "      <td>353733</td>\n",
       "      <td>3</td>\n",
       "      <td>18.0</td>\n",
       "      <td>2718991173</td>\n",
       "      <td>42516</td>\n",
       "      <td>Seizure</td>\n",
       "      <td>3</td>\n",
       "      <td>0</td>\n",
       "      <td>0</td>\n",
       "      <td>0</td>\n",
       "      <td>0</td>\n",
       "      <td>0</td>\n",
       "    </tr>\n",
       "    <tr>\n",
       "      <th>4</th>\n",
       "      <td>1628180742</td>\n",
       "      <td>4</td>\n",
       "      <td>24.0</td>\n",
       "      <td>353733</td>\n",
       "      <td>4</td>\n",
       "      <td>24.0</td>\n",
       "      <td>3080632009</td>\n",
       "      <td>42516</td>\n",
       "      <td>Seizure</td>\n",
       "      <td>3</td>\n",
       "      <td>0</td>\n",
       "      <td>0</td>\n",
       "      <td>0</td>\n",
       "      <td>0</td>\n",
       "      <td>0</td>\n",
       "    </tr>\n",
       "  </tbody>\n",
       "</table>\n",
       "</div>"
      ],
      "text/plain": [
       "       eeg_id  eeg_sub_id  eeg_label_offset_seconds  spectrogram_id  \\\n",
       "0  1628180742           0                       0.0          353733   \n",
       "1  1628180742           1                       6.0          353733   \n",
       "2  1628180742           2                       8.0          353733   \n",
       "3  1628180742           3                      18.0          353733   \n",
       "4  1628180742           4                      24.0          353733   \n",
       "\n",
       "   spectrogram_sub_id  spectrogram_label_offset_seconds    label_id  \\\n",
       "0                   0                               0.0   127492639   \n",
       "1                   1                               6.0  3887563113   \n",
       "2                   2                               8.0  1142670488   \n",
       "3                   3                              18.0  2718991173   \n",
       "4                   4                              24.0  3080632009   \n",
       "\n",
       "   patient_id expert_consensus  seizure_vote  lpd_vote  gpd_vote  lrda_vote  \\\n",
       "0       42516          Seizure             3         0         0          0   \n",
       "1       42516          Seizure             3         0         0          0   \n",
       "2       42516          Seizure             3         0         0          0   \n",
       "3       42516          Seizure             3         0         0          0   \n",
       "4       42516          Seizure             3         0         0          0   \n",
       "\n",
       "   grda_vote  other_vote  \n",
       "0          0           0  \n",
       "1          0           0  \n",
       "2          0           0  \n",
       "3          0           0  \n",
       "4          0           0  "
      ]
     },
     "execution_count": 28,
     "metadata": {},
     "output_type": "execute_result"
    }
   ],
   "source": [
    "DATA_IN = '../data/in/dataset/'\n",
    "DATA_MEM = '../data/mem/'\n",
    "DATA_OUT = '../data/out/'\n",
    "df = pd.read_csv(f'{DATA_IN}train.csv')\n",
    "TARGETS = df.columns[-6:]\n",
    "print('Train shape: ', df.shape)\n",
    "print('Targets', list(TARGETS))\n",
    "df.head()"
   ]
  },
  {
   "cell_type": "markdown",
   "metadata": {},
   "source": [
    "# Create Non-Overlapping Eeg Id Train Data\n",
    "The competition data description says that test data does not have multiple crops from the same `eeg_id`. Therefore we will train and validate using only 1 crop per `eeg_id`. There is a discussion about this [here][1].\n",
    "\n",
    "[1]: https://www.kaggle.com/competitions/hms-harmful-brain-activity-classification/discussion/467021"
   ]
  },
  {
   "cell_type": "code",
   "execution_count": 5,
   "metadata": {},
   "outputs": [
    {
     "name": "stdout",
     "output_type": "stream",
     "text": [
      "Train non-overlapp eeg_id shape:  (17089, 12)\n"
     ]
    },
    {
     "data": {
      "text/html": [
       "<div>\n",
       "<style scoped>\n",
       "    .dataframe tbody tr th:only-of-type {\n",
       "        vertical-align: middle;\n",
       "    }\n",
       "\n",
       "    .dataframe tbody tr th {\n",
       "        vertical-align: top;\n",
       "    }\n",
       "\n",
       "    .dataframe thead th {\n",
       "        text-align: right;\n",
       "    }\n",
       "</style>\n",
       "<table border=\"1\" class=\"dataframe\">\n",
       "  <thead>\n",
       "    <tr style=\"text-align: right;\">\n",
       "      <th></th>\n",
       "      <th>eeg_id</th>\n",
       "      <th>spec_id</th>\n",
       "      <th>min</th>\n",
       "      <th>max</th>\n",
       "      <th>patient_id</th>\n",
       "      <th>seizure_vote</th>\n",
       "      <th>lpd_vote</th>\n",
       "      <th>gpd_vote</th>\n",
       "      <th>lrda_vote</th>\n",
       "      <th>grda_vote</th>\n",
       "      <th>other_vote</th>\n",
       "      <th>target</th>\n",
       "    </tr>\n",
       "  </thead>\n",
       "  <tbody>\n",
       "    <tr>\n",
       "      <th>0</th>\n",
       "      <td>568657</td>\n",
       "      <td>789577333</td>\n",
       "      <td>0.0</td>\n",
       "      <td>16.0</td>\n",
       "      <td>20654</td>\n",
       "      <td>0.0</td>\n",
       "      <td>0.000000</td>\n",
       "      <td>0.25</td>\n",
       "      <td>0.000000</td>\n",
       "      <td>0.166667</td>\n",
       "      <td>0.583333</td>\n",
       "      <td>Other</td>\n",
       "    </tr>\n",
       "    <tr>\n",
       "      <th>1</th>\n",
       "      <td>582999</td>\n",
       "      <td>1552638400</td>\n",
       "      <td>0.0</td>\n",
       "      <td>38.0</td>\n",
       "      <td>20230</td>\n",
       "      <td>0.0</td>\n",
       "      <td>0.857143</td>\n",
       "      <td>0.00</td>\n",
       "      <td>0.071429</td>\n",
       "      <td>0.000000</td>\n",
       "      <td>0.071429</td>\n",
       "      <td>LPD</td>\n",
       "    </tr>\n",
       "    <tr>\n",
       "      <th>2</th>\n",
       "      <td>642382</td>\n",
       "      <td>14960202</td>\n",
       "      <td>1008.0</td>\n",
       "      <td>1032.0</td>\n",
       "      <td>5955</td>\n",
       "      <td>0.0</td>\n",
       "      <td>0.000000</td>\n",
       "      <td>0.00</td>\n",
       "      <td>0.000000</td>\n",
       "      <td>0.000000</td>\n",
       "      <td>1.000000</td>\n",
       "      <td>Other</td>\n",
       "    </tr>\n",
       "    <tr>\n",
       "      <th>3</th>\n",
       "      <td>751790</td>\n",
       "      <td>618728447</td>\n",
       "      <td>908.0</td>\n",
       "      <td>908.0</td>\n",
       "      <td>38549</td>\n",
       "      <td>0.0</td>\n",
       "      <td>0.000000</td>\n",
       "      <td>1.00</td>\n",
       "      <td>0.000000</td>\n",
       "      <td>0.000000</td>\n",
       "      <td>0.000000</td>\n",
       "      <td>GPD</td>\n",
       "    </tr>\n",
       "    <tr>\n",
       "      <th>4</th>\n",
       "      <td>778705</td>\n",
       "      <td>52296320</td>\n",
       "      <td>0.0</td>\n",
       "      <td>0.0</td>\n",
       "      <td>40955</td>\n",
       "      <td>0.0</td>\n",
       "      <td>0.000000</td>\n",
       "      <td>0.00</td>\n",
       "      <td>0.000000</td>\n",
       "      <td>0.000000</td>\n",
       "      <td>1.000000</td>\n",
       "      <td>Other</td>\n",
       "    </tr>\n",
       "  </tbody>\n",
       "</table>\n",
       "</div>"
      ],
      "text/plain": [
       "   eeg_id     spec_id     min     max  patient_id  seizure_vote  lpd_vote  \\\n",
       "0  568657   789577333     0.0    16.0       20654           0.0  0.000000   \n",
       "1  582999  1552638400     0.0    38.0       20230           0.0  0.857143   \n",
       "2  642382    14960202  1008.0  1032.0        5955           0.0  0.000000   \n",
       "3  751790   618728447   908.0   908.0       38549           0.0  0.000000   \n",
       "4  778705    52296320     0.0     0.0       40955           0.0  0.000000   \n",
       "\n",
       "   gpd_vote  lrda_vote  grda_vote  other_vote target  \n",
       "0      0.25   0.000000   0.166667    0.583333  Other  \n",
       "1      0.00   0.071429   0.000000    0.071429    LPD  \n",
       "2      0.00   0.000000   0.000000    1.000000  Other  \n",
       "3      1.00   0.000000   0.000000    0.000000    GPD  \n",
       "4      0.00   0.000000   0.000000    1.000000  Other  "
      ]
     },
     "execution_count": 5,
     "metadata": {},
     "output_type": "execute_result"
    }
   ],
   "source": [
    "train = df.groupby('eeg_id')[['spectrogram_id', 'spectrogram_label_offset_seconds']].agg(\n",
    "    {'spectrogram_id': 'first', 'spectrogram_label_offset_seconds': 'min'})\n",
    "train.columns = ['spec_id', 'min']\n",
    "\n",
    "tmp = df.groupby('eeg_id')[['spectrogram_id', 'spectrogram_label_offset_seconds']].agg(\n",
    "    {'spectrogram_label_offset_seconds': 'max'})\n",
    "train['max'] = tmp\n",
    "\n",
    "tmp = df.groupby('eeg_id')[['patient_id']].agg('first')\n",
    "train['patient_id'] = tmp\n",
    "\n",
    "tmp = df.groupby('eeg_id')[TARGETS].agg('sum')\n",
    "for t in TARGETS:\n",
    "    train[t] = tmp[t].values\n",
    "\n",
    "y_data = train[TARGETS].values\n",
    "y_data = y_data / y_data.sum(axis=1, keepdims=True)\n",
    "train[TARGETS] = y_data\n",
    "\n",
    "tmp = df.groupby('eeg_id')[['expert_consensus']].agg('first')\n",
    "train['target'] = tmp\n",
    "\n",
    "train = train.reset_index()\n",
    "print('Train non-overlapp eeg_id shape: ', train.shape)\n",
    "train.head()"
   ]
  },
  {
   "cell_type": "markdown",
   "metadata": {},
   "source": [
    "# Feature Engineer\n",
    "In this section, we create features for our CatBoost model. \n",
    "\n",
    "First we need to read in all 11k train spectrogram files. Reading thousands of files takes 11 minutes with Pandas. Instead, we can read 1 file from my [Kaggle dataset here][1] which contains all the 11k spectrograms in less than 1 minute! To use my [Kaggle dataset][1], set variable `READ_SPEC_FILES = False`. Don't forget to upvote this helpful [dataset][1] :-)\n",
    "\n",
    "Next we need to engineer features for our CatBoost model. In this notebook, we just take the mean (over time) of each of the 400 spectrogram frequencies (using middle 10 minutes). This produces 400 features (per each unique eeg id). We can improve CV and LB score by engineering new features (and/or tuning CatBoost).\n",
    "\n",
    "UPDATE: Version 2 creates features from `means` and `mins`. And version 2 uses `10 minute windows` and `20 second windows`.\n",
    "\n",
    "[1]: https://www.kaggle.com/datasets/cdeotte/brain-spectrograms"
   ]
  },
  {
   "cell_type": "code",
   "execution_count": 13,
   "metadata": {},
   "outputs": [],
   "source": [
    "READ_SPEC_FILES = True\n",
    "FEATURE_ENGINEER = True"
   ]
  },
  {
   "cell_type": "code",
   "execution_count": 14,
   "metadata": {},
   "outputs": [
    {
     "name": "stdout",
     "output_type": "stream",
     "text": [
      "There are 11138 spectrogram parquets\n",
      "0 , 100 , 200 , 300 , 400 , 500 , 600 , 700 , 800 , 900 , 1000 , 1100 , 1200 , 1300 , 1400 , 1500 , 1600 , 1700 , 1800 , 1900 , 2000 , 2100 , 2200 , 2300 , 2400 , 2500 , 2600 , 2700 , 2800 , 2900 , 3000 , 3100 , 3200 , 3300 , 3400 , 3500 , 3600 , 3700 , 3800 , 3900 , 4000 , 4100 , 4200 , 4300 , 4400 , 4500 , 4600 , 4700 , 4800 , 4900 , 5000 , 5100 , 5200 , 5300 , 5400 , 5500 , 5600 , 5700 , 5800 , 5900 , 6000 , 6100 , 6200 , 6300 , 6400 , 6500 , 6600 , 6700 , 6800 , 6900 , 7000 , 7100 , 7200 , 7300 , 7400 , 7500 , 7600 , 7700 , 7800 , 7900 , 8000 , 8100 , 8200 , 8300 , 8400 , 8500 , 8600 , 8700 , 8800 , 8900 , 9000 , 9100 , 9200 , 9300 , 9400 , 9500 , 9600 , 9700 , 9800 , 9900 , 10000 , 10100 , 10200 , 10300 , 10400 , 10500 , 10600 , 10700 , 10800 , 10900 , 11000 , 11100 , CPU times: user 3min 45s, sys: 1min 56s, total: 5min 41s\n",
      "Wall time: 8min 21s\n"
     ]
    }
   ],
   "source": [
    "%%time\n",
    "# READ ALL SPECTROGRAMS\n",
    "PATH = f'{DATA_IN}train_spectrograms/'\n",
    "files = os.listdir(PATH)\n",
    "print(f'There are {len(files)} spectrogram parquets')\n",
    "\n",
    "if READ_SPEC_FILES:    \n",
    "    spectrograms = {}\n",
    "    for i , f in enumerate(files):\n",
    "        if i%100==0: print(i , ', ' , end='')\n",
    "        tmp = pd.read_parquet(f'{PATH}{f}')\n",
    "        name = int(f.split('.')[0])\n",
    "        spectrograms[name] = tmp.iloc[: , 1:].values\n",
    "else:\n",
    "    pass\n",
    "    # spectrograms = np.load('/kaggle/input/brain-spectrograms/specs.npy' , allow_pickle=True).item()"
   ]
  },
  {
   "cell_type": "code",
   "execution_count": 15,
   "metadata": {},
   "outputs": [
    {
     "name": "stdout",
     "output_type": "stream",
     "text": [
      "CPU times: user 0 ns, sys: 16 µs, total: 16 µs\n",
      "Wall time: 47.4 µs\n",
      "We are creating 1600 features for 17089 rows... 0 , 100 , 200 , 300 , 400 , 500 , 600 , 700 , 800 , 900 , 1000 , 1100 , 1200 , 1300 , 1400 , 1500 , 1600 , 1700 , 1800 , 1900 , 2000 , 2100 , 2200 , 2300 , 2400 , 2500 , 2600 , 2700 , 2800 , 2900 , 3000 , 3100 , 3200 , 3300 , 3400 , 3500 , 3600 , 3700 , 3800 , 3900 , 4000 , 4100 , 4200 , 4300 , 4400 , 4500 , 4600 , 4700 , 4800 , 4900 , 5000 , 5100 , 5200 , 5300 , 5400 , 5500 , 5600 , 5700 , 5800 , 5900 , 6000 , 6100 , 6200 , 6300 , 6400 , 6500 , 6600 , 6700 , 6800 , 6900 , 7000 , 7100 , 7200 , 7300 , 7400 , 7500 , 7600 , 7700 , 7800 , 7900 , 8000 , 8100 , 8200 , 8300 , 8400 , 8500 , 8600 , 8700 , 8800 , 8900 , 9000 , 9100 , 9200 , 9300 , 9400 , 9500 , 9600 , 9700 , 9800 , 9900 , 10000 , 10100 , 10200 , 10300 , 10400 , 10500 , 10600 , 10700 , 10800 , 10900 , 11000 , 11100 , 11200 , 11300 , 11400 , 11500 , 11600 , 11700 , 11800 , 11900 , 12000 , 12100 , 12200 , 12300 , 12400 , 12500 , 12600 , 12700 , 12800 , 12900 , 13000 , 13100 , 13200 , 13300 , 13400 , 13500 , 13600 , 13700 , 13800 , 13900 , 14000 , 14100 , 14200 , 14300 , 14400 , 14500 , 14600 , 14700 , 14800 , 14900 , 15000 , 15100 , 15200 , 15300 , 15400 , 15500 , 15600 , 15700 , 15800 , 15900 , 16000 , 16100 , 16200 , 16300 , 16400 , 16500 , 16600 , 16700 , 16800 , 16900 , 17000 , \n",
      "New train shape:  (17089, 1612)\n"
     ]
    }
   ],
   "source": [
    "%time\n",
    "# ENGINEER FEATURES\n",
    "\n",
    "warnings.filterwarnings('ignore')\n",
    "\n",
    "# FEATURE NAMES\n",
    "SPEC_COLS = pd.read_parquet(f'{PATH}1000086677.parquet').columns[1:]\n",
    "FEATURES = [f'{c}_mean_10m' for c in SPEC_COLS]\n",
    "FEATURES += [f'{c}_min_10m' for c in SPEC_COLS]\n",
    "FEATURES += [f'{c}_mean_20s' for c in SPEC_COLS]\n",
    "FEATURES += [f'{c}_min_20s' for c in SPEC_COLS]\n",
    "print(f'We are creating {len(FEATURES)} features for {len(train)} rows... ', end='')\n",
    "\n",
    "if FEATURE_ENGINEER:\n",
    "    data = np.zeros((len(train), len(FEATURES)))\n",
    "    for k in range(len(train)):\n",
    "        if k % 100 == 0:\n",
    "            print(k, ', ', end='')\n",
    "        row = train.iloc[k]\n",
    "        r = int((row['min'] + row['max'])//4)\n",
    "\n",
    "        # 10 MINUTE WINDOW FEATURES (MEANS and MINS)\n",
    "        x = np.nanmean(spectrograms[row.spec_id][r: r+300, :], axis=0)\n",
    "        data[k, :400] = x\n",
    "        x = np.nanmin(spectrograms[row.spec_id][r: r+300, :], axis=0)\n",
    "        data[k, 400: 800] = x\n",
    "\n",
    "        # 20 SECOND WINDOW FEATURES (MEANS and MINS)\n",
    "        x = np.nanmean(spectrograms[row.spec_id][r+145:r+155, :], axis=0)\n",
    "        data[k, 800: 1200] = x\n",
    "        x = np.nanmin(spectrograms[row.spec_id][r+145:r+155, :], axis=0)\n",
    "        data[k, 1200: 1600] = x\n",
    "\n",
    "    train[FEATURES] = data\n",
    "else:\n",
    "    # train = pd.read_parquet('/kaggle/input/brain-spectrograms/train.pqt')\n",
    "print()\n",
    "print('New train shape: ', train.shape)"
   ]
  },
  {
   "cell_type": "markdown",
   "metadata": {},
   "source": [
    "# Train CatBoost\n",
    "We use the default settings for CatBoost which are pretty good. We can tune CatBoost manually to improve CV and LB score. Note that CatBoost will automatically use both Kaggle T4 GPUs (when we add parameter `task_type='GPU'`)  for super fast training!"
   ]
  },
  {
   "cell_type": "code",
   "execution_count": 16,
   "metadata": {},
   "outputs": [
    {
     "name": "stdout",
     "output_type": "stream",
     "text": [
      "CatBoost version 1.2.2\n"
     ]
    }
   ],
   "source": [
    "\n",
    "print('CatBoost version', cat.__version__)"
   ]
  },
  {
   "cell_type": "code",
   "execution_count": 17,
   "metadata": {},
   "outputs": [
    {
     "name": "stdout",
     "output_type": "stream",
     "text": [
      "#########################\n",
      "### Fold 1\n",
      "### train size 13671, valid size 3418\n",
      "#########################\n",
      "Learning rate set to 0.136945\n",
      "0:\tlearn: 1.6483871\ttest: 1.6725277\tbest: 1.6725277 (0)\ttotal: 171ms\tremaining: 2m 50s\n",
      "100:\tlearn: 0.7880499\ttest: 1.1313941\tbest: 1.1313941 (100)\ttotal: 2.38s\tremaining: 21.2s\n",
      "200:\tlearn: 0.6284463\ttest: 1.1006719\tbest: 1.1003799 (191)\ttotal: 4.57s\tremaining: 18.2s\n",
      "300:\tlearn: 0.5293903\ttest: 1.0891210\tbest: 1.0879876 (296)\ttotal: 6.73s\tremaining: 15.6s\n",
      "400:\tlearn: 0.4552625\ttest: 1.0820583\tbest: 1.0803133 (394)\ttotal: 8.85s\tremaining: 13.2s\n",
      "500:\tlearn: 0.3963618\ttest: 1.0790552\tbest: 1.0790552 (500)\ttotal: 11s\tremaining: 11s\n",
      "600:\tlearn: 0.3503195\ttest: 1.0790394\tbest: 1.0781206 (556)\ttotal: 13.1s\tremaining: 8.72s\n",
      "700:\tlearn: 0.3073502\ttest: 1.0804366\tbest: 1.0781206 (556)\ttotal: 15.3s\tremaining: 6.51s\n",
      "800:\tlearn: 0.2735471\ttest: 1.0811478\tbest: 1.0781206 (556)\ttotal: 17.4s\tremaining: 4.32s\n",
      "900:\tlearn: 0.2447935\ttest: 1.0851548\tbest: 1.0781206 (556)\ttotal: 19.5s\tremaining: 2.14s\n",
      "999:\tlearn: 0.2174091\ttest: 1.0897395\tbest: 1.0781206 (556)\ttotal: 21.6s\tremaining: 0us\n",
      "bestTest = 1.078120571\n",
      "bestIteration = 556\n",
      "Shrink model to first 557 iterations.\n",
      "#########################\n",
      "### Fold 2\n",
      "### train size 13671, valid size 3418\n",
      "#########################\n",
      "Learning rate set to 0.136945\n",
      "0:\tlearn: 1.6476867\ttest: 1.6727814\tbest: 1.6727814 (0)\ttotal: 24.5ms\tremaining: 24.5s\n",
      "100:\tlearn: 0.7826759\ttest: 1.1511185\tbest: 1.1507591 (98)\ttotal: 2.23s\tremaining: 19.8s\n",
      "200:\tlearn: 0.6276682\ttest: 1.1237553\tbest: 1.1227454 (193)\ttotal: 4.39s\tremaining: 17.5s\n",
      "300:\tlearn: 0.5277216\ttest: 1.1095087\tbest: 1.1095087 (300)\ttotal: 6.54s\tremaining: 15.2s\n",
      "400:\tlearn: 0.4528595\ttest: 1.1120181\tbest: 1.1095087 (300)\ttotal: 8.69s\tremaining: 13s\n",
      "500:\tlearn: 0.3962386\ttest: 1.1137977\tbest: 1.1095087 (300)\ttotal: 10.8s\tremaining: 10.8s\n",
      "600:\tlearn: 0.3494384\ttest: 1.1207426\tbest: 1.1095087 (300)\ttotal: 12.9s\tremaining: 8.57s\n",
      "700:\tlearn: 0.3088108\ttest: 1.1239695\tbest: 1.1095087 (300)\ttotal: 15.1s\tremaining: 6.42s\n",
      "800:\tlearn: 0.2747110\ttest: 1.1326866\tbest: 1.1095087 (300)\ttotal: 17.2s\tremaining: 4.28s\n",
      "900:\tlearn: 0.2437961\ttest: 1.1383492\tbest: 1.1095087 (300)\ttotal: 19.4s\tremaining: 2.13s\n",
      "999:\tlearn: 0.2188786\ttest: 1.1442320\tbest: 1.1095087 (300)\ttotal: 21.5s\tremaining: 0us\n",
      "bestTest = 1.109508713\n",
      "bestIteration = 300\n",
      "Shrink model to first 301 iterations.\n",
      "#########################\n",
      "### Fold 3\n",
      "### train size 13671, valid size 3418\n",
      "#########################\n",
      "Learning rate set to 0.136945\n",
      "0:\tlearn: 1.6465347\ttest: 1.6748735\tbest: 1.6748735 (0)\ttotal: 24ms\tremaining: 24s\n",
      "100:\tlearn: 0.7935510\ttest: 1.0567733\tbest: 1.0567733 (100)\ttotal: 2.25s\tremaining: 20.1s\n",
      "200:\tlearn: 0.6312886\ttest: 1.0235632\tbest: 1.0226410 (198)\ttotal: 4.45s\tremaining: 17.7s\n",
      "300:\tlearn: 0.5359448\ttest: 1.0103653\tbest: 1.0103536 (296)\ttotal: 6.6s\tremaining: 15.3s\n",
      "400:\tlearn: 0.4604235\ttest: 1.0071326\tbest: 1.0064588 (344)\ttotal: 8.76s\tremaining: 13.1s\n",
      "500:\tlearn: 0.3984814\ttest: 1.0050481\tbest: 1.0014113 (487)\ttotal: 10.9s\tremaining: 10.9s\n",
      "600:\tlearn: 0.3485287\ttest: 1.0015616\tbest: 1.0014113 (487)\ttotal: 13.1s\tremaining: 8.71s\n",
      "700:\tlearn: 0.3102892\ttest: 1.0003526\tbest: 0.9985678 (653)\ttotal: 15.3s\tremaining: 6.51s\n",
      "800:\tlearn: 0.2747733\ttest: 0.9948959\tbest: 0.9947842 (794)\ttotal: 17.4s\tremaining: 4.33s\n",
      "900:\tlearn: 0.2458311\ttest: 0.9984649\tbest: 0.9942108 (806)\ttotal: 19.6s\tremaining: 2.15s\n",
      "999:\tlearn: 0.2199469\ttest: 1.0055786\tbest: 0.9942108 (806)\ttotal: 21.7s\tremaining: 0us\n",
      "bestTest = 0.9942108386\n",
      "bestIteration = 806\n",
      "Shrink model to first 807 iterations.\n",
      "#########################\n",
      "### Fold 4\n",
      "### train size 13671, valid size 3418\n",
      "#########################\n",
      "Learning rate set to 0.136945\n",
      "0:\tlearn: 1.6498154\ttest: 1.6838175\tbest: 1.6838175 (0)\ttotal: 25.1ms\tremaining: 25.1s\n",
      "100:\tlearn: 0.7815377\ttest: 1.1226556\tbest: 1.1224037 (99)\ttotal: 2.27s\tremaining: 20.2s\n",
      "200:\tlearn: 0.6237518\ttest: 1.0822501\tbest: 1.0822501 (200)\ttotal: 4.48s\tremaining: 17.8s\n",
      "300:\tlearn: 0.5198949\ttest: 1.0674391\tbest: 1.0674391 (300)\ttotal: 6.69s\tremaining: 15.5s\n",
      "400:\tlearn: 0.4431699\ttest: 1.0656808\tbest: 1.0642301 (312)\ttotal: 8.9s\tremaining: 13.3s\n",
      "500:\tlearn: 0.3883207\ttest: 1.0645597\tbest: 1.0633876 (481)\ttotal: 11.1s\tremaining: 11.1s\n",
      "600:\tlearn: 0.3437699\ttest: 1.0649397\tbest: 1.0626369 (583)\ttotal: 13.4s\tremaining: 8.87s\n",
      "700:\tlearn: 0.3038048\ttest: 1.0678008\tbest: 1.0626369 (583)\ttotal: 15.6s\tremaining: 6.63s\n",
      "800:\tlearn: 0.2713201\ttest: 1.0674635\tbest: 1.0626369 (583)\ttotal: 17.8s\tremaining: 4.42s\n",
      "900:\tlearn: 0.2434420\ttest: 1.0710303\tbest: 1.0626369 (583)\ttotal: 20s\tremaining: 2.19s\n",
      "999:\tlearn: 0.2162184\ttest: 1.0747040\tbest: 1.0626369 (583)\ttotal: 22.1s\tremaining: 0us\n",
      "bestTest = 1.062636927\n",
      "bestIteration = 583\n",
      "Shrink model to first 584 iterations.\n",
      "#########################\n",
      "### Fold 5\n",
      "### train size 13672, valid size 3417\n",
      "#########################\n",
      "Learning rate set to 0.136946\n",
      "0:\tlearn: 1.6528309\ttest: 1.6683666\tbest: 1.6683666 (0)\ttotal: 24.7ms\tremaining: 24.7s\n",
      "100:\tlearn: 0.7802166\ttest: 1.1729577\tbest: 1.1729577 (100)\ttotal: 2.27s\tremaining: 20.3s\n",
      "200:\tlearn: 0.6263791\ttest: 1.1505232\tbest: 1.1492845 (183)\ttotal: 4.47s\tremaining: 17.8s\n",
      "300:\tlearn: 0.5315176\ttest: 1.1414884\tbest: 1.1390269 (276)\ttotal: 6.65s\tremaining: 15.4s\n",
      "400:\tlearn: 0.4603482\ttest: 1.1309191\tbest: 1.1306218 (398)\ttotal: 8.83s\tremaining: 13.2s\n",
      "500:\tlearn: 0.4012747\ttest: 1.1296302\tbest: 1.1273980 (432)\ttotal: 11s\tremaining: 11s\n",
      "600:\tlearn: 0.3532161\ttest: 1.1308796\tbest: 1.1273980 (432)\ttotal: 13.2s\tremaining: 8.74s\n",
      "700:\tlearn: 0.3120615\ttest: 1.1395448\tbest: 1.1273980 (432)\ttotal: 15.3s\tremaining: 6.53s\n",
      "800:\tlearn: 0.2758277\ttest: 1.1417710\tbest: 1.1273980 (432)\ttotal: 17.5s\tremaining: 4.34s\n",
      "900:\tlearn: 0.2471876\ttest: 1.1449411\tbest: 1.1273980 (432)\ttotal: 19.6s\tremaining: 2.15s\n",
      "999:\tlearn: 0.2220403\ttest: 1.1482789\tbest: 1.1273980 (432)\ttotal: 21.8s\tremaining: 0us\n",
      "bestTest = 1.127398037\n",
      "bestIteration = 432\n",
      "Shrink model to first 433 iterations.\n"
     ]
    }
   ],
   "source": [
    "\n",
    "type(KFold)\n",
    "all_oof = []\n",
    "all_true = []\n",
    "TARS = {'Seizure': 0, 'LPD': 1, 'GPD': 2, 'LRDA': 3, 'GRDA': 4, 'Other': 5}\n",
    "\n",
    "gkf = GroupKFold(n_splits=5)\n",
    "for i, (train_index, valid_index) in enumerate(gkf.split(train, train.target, train.patient_id)):\n",
    "\n",
    "    print('#'*25)\n",
    "    print(f'### Fold {i+1}')\n",
    "    print(f'### train size {len(train_index)}, valid size {len(valid_index)}')\n",
    "    print('#'*25)\n",
    "\n",
    "    model = CatBoostClassifier(task_type='GPU',\n",
    "                               loss_function='MultiClass')\n",
    "\n",
    "    train_pool = Pool(data=train.loc[train_index, FEATURES],\n",
    "                      label=train.loc[train_index, 'target'].map(TARS),\n",
    "                      )\n",
    "\n",
    "    valid_pool = Pool(data=train.loc[valid_index, FEATURES],\n",
    "                      label=train.loc[valid_index, 'target'].map(TARS),\n",
    "                      )\n",
    "\n",
    "    model.fit(train_pool,\n",
    "              verbose=100,\n",
    "              eval_set=valid_pool,\n",
    "              )\n",
    "    model.save_model(f'{DATA_MEM}catboost/CAT_v{VER}_f{i}.cat')\n",
    "\n",
    "    oof = model.predict_proba(valid_pool)\n",
    "    all_oof.append(oof)\n",
    "    all_true.append(train.loc[valid_index, TARGETS].values)\n",
    "\n",
    "    del train_pool, valid_pool, oof  # model\n",
    "    gc.collect()\n",
    "\n",
    "    # break\n",
    "\n",
    "all_oof = np.concatenate(all_oof)\n",
    "all_true = np.concatenate(all_true)"
   ]
  },
  {
   "cell_type": "markdown",
   "metadata": {},
   "source": [
    "# Feature Importance\n",
    "Below we display the CatBoost top 25 feature importance for the last fold we trained."
   ]
  },
  {
   "cell_type": "code",
   "execution_count": 18,
   "metadata": {},
   "outputs": [
    {
     "data": {
      "image/png": "[encoded data removed]",
      "text/plain": [
       "<Figure size 1000x800 with 1 Axes>"
      ]
     },
     "metadata": {},
     "output_type": "display_data"
    }
   ],
   "source": [
    "TOP = 25\n",
    "\n",
    "feature_importance = model.feature_importances_\n",
    "sorted_idx = np.argsort(feature_importance)\n",
    "fig = plt.figure(figsize=(10, 8))\n",
    "plt.barh(np.arange(len(sorted_idx))[-TOP:], feature_importance[sorted_idx][-TOP:], align='center')\n",
    "plt.yticks(np.arange(len(sorted_idx))[-TOP:], np.array(FEATURES)[sorted_idx][-TOP:])\n",
    "plt.title(f'Feature Importance - Top {TOP}')\n",
    "plt.show()"
   ]
  },
  {
   "cell_type": "markdown",
   "metadata": {},
   "source": [
    "# CV Score for CatBoost\n",
    "This is CV score for our CatBoost model."
   ]
  },
  {
   "cell_type": "code",
   "execution_count": 19,
   "metadata": {},
   "outputs": [
    {
     "name": "stdout",
     "output_type": "stream",
     "text": [
      "CV Score KL-Div for CatBoost = 0.8315953303553734\n"
     ]
    }
   ],
   "source": [
    "\n",
    "# sys.path.append('/kaggle/input/kaggle-kl-div')\n",
    "\n",
    "\n",
    "oof = pd.DataFrame(all_oof.copy())\n",
    "oof['id'] = np.arange(len(oof))\n",
    "\n",
    "true = pd.DataFrame(all_true.copy())\n",
    "true['id'] = np.arange(len(true))\n",
    "\n",
    "cv = score(solution=true, submission=oof, row_id_column_name='id')\n",
    "print('CV Score KL-Div for CatBoost =', cv)"
   ]
  },
  {
   "cell_type": "markdown",
   "metadata": {},
   "source": [
    "# CV Score for Preds 1/6\n",
    "This is CV score for Kaggle's sample submission.csv which uses equal predictions of 1/6 for all targets."
   ]
  },
  {
   "cell_type": "code",
   "execution_count": 20,
   "metadata": {},
   "outputs": [
    {
     "name": "stdout",
     "output_type": "stream",
     "text": [
      "CV Score for \"Use Equal Preds 1/6\" = 1.4563246139800803\n"
     ]
    }
   ],
   "source": [
    "oof = pd.DataFrame(all_oof.copy())\n",
    "for c in oof.columns:\n",
    "    oof[c] = 1/6.\n",
    "oof['id'] = np.arange(len(oof))\n",
    "\n",
    "true = pd.DataFrame(all_true.copy())\n",
    "true['id'] = np.arange(len(true))\n",
    "\n",
    "cv = score(solution=true, submission=oof, row_id_column_name='id')\n",
    "print('CV Score for \"Use Equal Preds 1/6\" =', cv)"
   ]
  },
  {
   "cell_type": "markdown",
   "metadata": {},
   "source": [
    "# CV Score for EEG_Id Means\n",
    "This is CV score for current highest scoring public notebook [here][1] which uses train means as predictions.\n",
    "\n",
    "[1]: https://www.kaggle.com/code/seshurajup/eda-train-csv"
   ]
  },
  {
   "cell_type": "code",
   "execution_count": 21,
   "metadata": {},
   "outputs": [],
   "source": [
    "all_oof2 = []\n",
    "\n",
    "gkf = GroupKFold(n_splits=5)\n",
    "for i, (train_index, valid_index) in enumerate(gkf.split(train, train.target, train.patient_id)):\n",
    "    # print('#'*25)\n",
    "    # print(f'### Fold {i+1}')\n",
    "\n",
    "    y_train = train.iloc[train_index][TARGETS].values\n",
    "    y_valid = train.iloc[valid_index][TARGETS].values\n",
    "\n",
    "    # print(f'### train size {len(train_index)}, valid size {len(valid_index)}')\n",
    "    # print('#'*25)\n",
    "\n",
    "    oof = y_valid.copy()\n",
    "    for j in range(6):\n",
    "        oof[:, j] = y_train[:, j].mean()\n",
    "    oof = oof / oof.sum(axis=1, keepdims=True)\n",
    "    all_oof2.append(oof)\n",
    "\n",
    "all_oof2 = np.concatenate(all_oof2)"
   ]
  },
  {
   "cell_type": "code",
   "execution_count": 22,
   "metadata": {},
   "outputs": [
    {
     "name": "stdout",
     "output_type": "stream",
     "text": [
      "CV Score for \"Use Train Means\" = 1.2641160568651757\n"
     ]
    }
   ],
   "source": [
    "oof = pd.DataFrame(all_oof2.copy())\n",
    "oof['id'] = np.arange(len(oof))\n",
    "\n",
    "true = pd.DataFrame(all_true.copy())\n",
    "true['id'] = np.arange(len(true))\n",
    "\n",
    "cv = score(solution=true, submission=oof, row_id_column_name='id')\n",
    "print('CV Score for \"Use Train Means\" =', cv)"
   ]
  },
  {
   "cell_type": "markdown",
   "metadata": {},
   "source": [
    "# Infer Test and Create Submission CSV\n",
    "Below we use our 5 CatBoost fold models to infer the test data and create a `submission.csv` file."
   ]
  },
  {
   "cell_type": "code",
   "execution_count": 23,
   "metadata": {},
   "outputs": [
    {
     "name": "stdout",
     "output_type": "stream",
     "text": [
      "Test shape (1, 3)\n"
     ]
    },
    {
     "data": {
      "text/html": [
       "<div>\n",
       "<style scoped>\n",
       "    .dataframe tbody tr th:only-of-type {\n",
       "        vertical-align: middle;\n",
       "    }\n",
       "\n",
       "    .dataframe tbody tr th {\n",
       "        vertical-align: top;\n",
       "    }\n",
       "\n",
       "    .dataframe thead th {\n",
       "        text-align: right;\n",
       "    }\n",
       "</style>\n",
       "<table border=\"1\" class=\"dataframe\">\n",
       "  <thead>\n",
       "    <tr style=\"text-align: right;\">\n",
       "      <th></th>\n",
       "      <th>spectrogram_id</th>\n",
       "      <th>eeg_id</th>\n",
       "      <th>patient_id</th>\n",
       "    </tr>\n",
       "  </thead>\n",
       "  <tbody>\n",
       "    <tr>\n",
       "      <th>0</th>\n",
       "      <td>853520</td>\n",
       "      <td>3911565283</td>\n",
       "      <td>6885</td>\n",
       "    </tr>\n",
       "  </tbody>\n",
       "</table>\n",
       "</div>"
      ],
      "text/plain": [
       "   spectrogram_id      eeg_id  patient_id\n",
       "0          853520  3911565283        6885"
      ]
     },
     "execution_count": 23,
     "metadata": {},
     "output_type": "execute_result"
    }
   ],
   "source": [
    "test = pd.read_csv(f'{DATA_LOC}test.csv')\n",
    "print('Test shape', test.shape)\n",
    "test.head()"
   ]
  },
  {
   "cell_type": "code",
   "execution_count": 24,
   "metadata": {},
   "outputs": [
    {
     "name": "stdout",
     "output_type": "stream",
     "text": [
      "New test shape (1, 1603)\n"
     ]
    }
   ],
   "source": [
    "# FEATURE ENGINEER TEST\n",
    "PATH2 = f'{DATA_IN}test_spectrograms/'\n",
    "data = np.zeros((len(test), len(FEATURES)))\n",
    "for k in range(len(test)):\n",
    "    row = test.iloc[k]\n",
    "    s = int(row.spectrogram_id)\n",
    "    spec = pd.read_parquet(f'{PATH2}{s}.parquet')\n",
    "\n",
    "    # 10 MINUTE WINDOW FEATURES\n",
    "    x = np.nanmean(spec.iloc[:, 1:].values, axis=0)\n",
    "    data[k, :400] = x\n",
    "    x = np.nanmin(spec.iloc[:, 1:].values, axis=0)\n",
    "    data[k, 400: 800] = x\n",
    "\n",
    "    # 20 SECOND WINDOW FEATURES\n",
    "    x = np.nanmean(spec.iloc[145: 155, 1:].values, axis=0)\n",
    "    data[k, 800: 1200] = x\n",
    "    x = np.nanmin(spec.iloc[145: 155, 1:].values, axis=0)\n",
    "    data[k, 1200: 1600] = x\n",
    "\n",
    "test[FEATURES] = data\n",
    "print('New test shape', test.shape)"
   ]
  },
  {
   "cell_type": "code",
   "execution_count": 25,
   "metadata": {},
   "outputs": [
    {
     "name": "stdout",
     "output_type": "stream",
     "text": [
      "0 , 1 , 2 , 3 , 4 , \n",
      "Test preds shape (1, 6)\n"
     ]
    }
   ],
   "source": [
    "# INFER CATBOOST ON TEST\n",
    "preds = []\n",
    "\n",
    "for i in range(5):\n",
    "    print(i, ', ', end='')\n",
    "    model = CatBoostClassifier(task_type='GPU')\n",
    "    model.load_model(f'{DATA_MEM}catboost/CAT_v{VER}_f{i}.cat')\n",
    "\n",
    "    test_pool = Pool(data=test[FEATURES]\n",
    "                     )\n",
    "\n",
    "    pred = model.predict_proba(test_pool)\n",
    "    preds.append(pred)\n",
    "pred = np.mean(preds, axis=0)\n",
    "print()\n",
    "print('Test preds shape', pred.shape)"
   ]
  },
  {
   "cell_type": "code",
   "execution_count": 26,
   "metadata": {},
   "outputs": [
    {
     "name": "stdout",
     "output_type": "stream",
     "text": [
      "Submissionn shape (1, 7)\n"
     ]
    },
    {
     "data": {
      "text/html": [
       "<div>\n",
       "<style scoped>\n",
       "    .dataframe tbody tr th:only-of-type {\n",
       "        vertical-align: middle;\n",
       "    }\n",
       "\n",
       "    .dataframe tbody tr th {\n",
       "        vertical-align: top;\n",
       "    }\n",
       "\n",
       "    .dataframe thead th {\n",
       "        text-align: right;\n",
       "    }\n",
       "</style>\n",
       "<table border=\"1\" class=\"dataframe\">\n",
       "  <thead>\n",
       "    <tr style=\"text-align: right;\">\n",
       "      <th></th>\n",
       "      <th>eeg_id</th>\n",
       "      <th>seizure_vote</th>\n",
       "      <th>lpd_vote</th>\n",
       "      <th>gpd_vote</th>\n",
       "      <th>lrda_vote</th>\n",
       "      <th>grda_vote</th>\n",
       "      <th>other_vote</th>\n",
       "    </tr>\n",
       "  </thead>\n",
       "  <tbody>\n",
       "    <tr>\n",
       "      <th>0</th>\n",
       "      <td>3911565283</td>\n",
       "      <td>0.123718</td>\n",
       "      <td>0.026667</td>\n",
       "      <td>0.002408</td>\n",
       "      <td>0.149193</td>\n",
       "      <td>0.094427</td>\n",
       "      <td>0.603586</td>\n",
       "    </tr>\n",
       "  </tbody>\n",
       "</table>\n",
       "</div>"
      ],
      "text/plain": [
       "       eeg_id  seizure_vote  lpd_vote  gpd_vote  lrda_vote  grda_vote  \\\n",
       "0  3911565283      0.123718  0.026667  0.002408   0.149193   0.094427   \n",
       "\n",
       "   other_vote  \n",
       "0    0.603586  "
      ]
     },
     "execution_count": 26,
     "metadata": {},
     "output_type": "execute_result"
    }
   ],
   "source": [
    "sub = pd.DataFrame({'eeg_id': test.eeg_id.values})\n",
    "sub[TARGETS] = pred\n",
    "sub.to_csv(f'{DATA_OUT}submission.csv', index=False)\n",
    "print('Submissionn shape', sub.shape)\n",
    "sub.head()"
   ]
  },
  {
   "cell_type": "code",
   "execution_count": 27,
   "metadata": {},
   "outputs": [
    {
     "data": {
      "text/plain": [
       "0    1.0\n",
       "dtype: float64"
      ]
     },
     "execution_count": 27,
     "metadata": {},
     "output_type": "execute_result"
    }
   ],
   "source": [
    "# SANITY CHECK TO CONFIRM PREDICTIONS SUM TO ONE\n",
    "sub.iloc[:, -6:].sum(axis=1)"
   ]
  }
 ],
 "metadata": {
  "kaggle": {
   "accelerator": "nvidiaTeslaT4",
   "dataSources": [
    {
     "databundleVersionId": 7469972,
     "sourceId": 59093,
     "sourceType": "competition"
    },
    {
     "datasetId": 4297749,
     "sourceId": 7392733,
     "sourceType": "datasetVersion"
    },
    {
     "datasetId": 4297782,
     "sourceId": 7392775,
     "sourceType": "datasetVersion"
    }
   ],
   "dockerImageVersionId": 30636,
   "isGpuEnabled": true,
   "isInternetEnabled": false,
   "language": "python",
   "sourceType": "notebook"
  },
  "kernelspec": {
   "display_name": "Python 3 (ipykernel)",
   "language": "python",
   "name": "python3"
  },
  "language_info": {
   "codemirror_mode": {
    "name": "ipython",
    "version": 3
   },
   "file_extension": ".py",
   "mimetype": "text/x-python",
   "name": "python",
   "nbconvert_exporter": "python",
   "pygments_lexer": "ipython3",
   "version": "3.10.12"
  }
 },
 "nbformat": 4,
 "nbformat_minor": 4
}
